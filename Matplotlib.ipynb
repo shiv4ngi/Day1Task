{
  "nbformat": 4,
  "nbformat_minor": 0,
  "metadata": {
    "colab": {
      "name": "Matplotlib.ipynb",
      "version": "0.3.2",
      "provenance": [],
      "include_colab_link": true
    },
    "kernelspec": {
      "name": "python3",
      "display_name": "Python 3"
    }
  },
  "cells": [
    {
      "cell_type": "markdown",
      "metadata": {
        "id": "view-in-github",
        "colab_type": "text"
      },
      "source": [
        "<a href=\"https://colab.research.google.com/github/shiv4ngi/Task/blob/master/Matplotlib.ipynb\" target=\"_parent\"><img src=\"https://colab.research.google.com/assets/colab-badge.svg\" alt=\"Open In Colab\"/></a>"
      ]
    },
    {
      "cell_type": "code",
      "metadata": {
        "id": "FlrmLfvY2SgZ",
        "colab_type": "code",
        "colab": {}
      },
      "source": [
        "import matplotlib.pyplot as plt\n",
        "import numpy as np\n"
      ],
      "execution_count": 0,
      "outputs": []
    },
    {
      "cell_type": "markdown",
      "metadata": {
        "id": "UT97SsnrBGHK",
        "colab_type": "text"
      },
      "source": [
        "# Pie-chart"
      ]
    },
    {
      "cell_type": "code",
      "metadata": {
        "id": "L0b2VsS92cnR",
        "colab_type": "code",
        "colab": {
          "base_uri": "https://localhost:8080/",
          "height": 255
        },
        "outputId": "7daf2e9c-29a5-4de9-b55e-febe402f98e0"
      },
      "source": [
        "import matplotlib.pyplot as plt            #pie-chart\n",
        "\n",
        "event= ['sunny','windy','rainy','cloudy','snow']\n",
        "\n",
        "days = [6,2,3,4,5]\n",
        "\n",
        "colors = ['red','green','black','blue','yellow']\n",
        "\n",
        "\n",
        "plt.pie(days, labels=event, colors=colors,shadow=True)\n",
        "\n",
        "plt.legend()\n",
        "\n",
        "plt.show()"
      ],
      "execution_count": 2,
      "outputs": [
        {
          "output_type": "display_data",
          "data": {
            "image/png": "[encoded data removed]",
            "text/plain": [
              "<Figure size 432x288 with 1 Axes>"
            ]
          },
          "metadata": {
            "tags": []
          }
        }
      ]
    },
    {
      "cell_type": "markdown",
      "metadata": {
        "id": "Z1NIjA_MBMqi",
        "colab_type": "text"
      },
      "source": [
        "# Histogram"
      ]
    },
    {
      "cell_type": "code",
      "metadata": {
        "id": "DV9-IIM22cku",
        "colab_type": "code",
        "colab": {
          "base_uri": "https://localhost:8080/",
          "height": 281
        },
        "outputId": "526bba78-e012-430e-d75a-07dfaea6b8dd"
      },
      "source": [
        "x= np.random.randn(100)        #histogram\n",
        "\n",
        "plt.hist(x,10,rwidth=0.8)\n",
        "\n",
        "plt.title('Random_no.')\n",
        "\n",
        "plt.show()"
      ],
      "execution_count": 13,
      "outputs": [
        {
          "output_type": "display_data",
          "data": {
            "image/png": "[encoded data removed]",
            "text/plain": [
              "<Figure size 432x288 with 1 Axes>"
            ]
          },
          "metadata": {
            "tags": []
          }
        }
      ]
    },
    {
      "cell_type": "markdown",
      "metadata": {
        "id": "Dz76ZeJnBSc6",
        "colab_type": "text"
      },
      "source": [
        "# Line-plot"
      ]
    },
    {
      "cell_type": "code",
      "metadata": {
        "id": "OnCtR-692ch1",
        "colab_type": "code",
        "colab": {
          "base_uri": "https://localhost:8080/",
          "height": 283
        },
        "outputId": "4f2b52c2-f2f8-4098-9307-366a0a520535"
      },
      "source": [
        "x= [2,3,4,5,6,7,8,9]\n",
        "y= [4,9,16,25,36,49,64,81]\n",
        "\n",
        "\n",
        "plt.plot(x,y)                  #line plot\n",
        "plt.xlabel('numbers')\n",
        "plt.ylabel('squares')\n",
        "\n",
        "plt.grid()\n",
        "plt.show()"
      ],
      "execution_count": 8,
      "outputs": [
        {
          "output_type": "display_data",
          "data": {
            "image/png": "[encoded data removed]",
            "text/plain": [
              "<Figure size 432x288 with 1 Axes>"
            ]
          },
          "metadata": {
            "tags": []
          }
        }
      ]
    },
    {
      "cell_type": "markdown",
      "metadata": {
        "id": "YInG7PqtBWu7",
        "colab_type": "text"
      },
      "source": [
        "# **Bar-plot**"
      ]
    },
    {
      "cell_type": "code",
      "metadata": {
        "id": "F7lod_U-2ce1",
        "colab_type": "code",
        "colab": {
          "base_uri": "https://localhost:8080/",
          "height": 269
        },
        "outputId": "d844160e-7a74-419d-a577-7554735b3db5"
      },
      "source": [
        "plt.bar(x,y)      #bar plot\n",
        "plt.show()"
      ],
      "execution_count": 10,
      "outputs": [
        {
          "output_type": "display_data",
          "data": {
            "image/png": "[encoded data removed]",
            "text/plain": [
              "<Figure size 432x288 with 1 Axes>"
            ]
          },
          "metadata": {
            "tags": []
          }
        }
      ]
    },
    {
      "cell_type": "markdown",
      "metadata": {
        "id": "XkOqnlzEBhP3",
        "colab_type": "text"
      },
      "source": [
        "# Scatter-plot"
      ]
    },
    {
      "cell_type": "code",
      "metadata": {
        "id": "5-1RwbS62cbu",
        "colab_type": "code",
        "colab": {
          "base_uri": "https://localhost:8080/",
          "height": 269
        },
        "outputId": "8144663c-6059-456b-85ae-dc4bf97da1fd"
      },
      "source": [
        "plt.scatter(x,y,color='r')      #scatter plot\n",
        "plt.show()"
      ],
      "execution_count": 12,
      "outputs": [
        {
          "output_type": "display_data",
          "data": {
            "image/png": "[encoded data removed]",
            "text/plain": [
              "<Figure size 432x288 with 1 Axes>"
            ]
          },
          "metadata": {
            "tags": []
          }
        }
      ]
    },
    {
      "cell_type": "code",
      "metadata": {
        "id": "DCanqvUI2cUb",
        "colab_type": "code",
        "colab": {}
      },
      "source": [
        ""
      ],
      "execution_count": 0,
      "outputs": []
    }
  ]
}