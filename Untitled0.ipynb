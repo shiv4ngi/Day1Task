{
  "nbformat": 4,
  "nbformat_minor": 0,
  "metadata": {
    "colab": {
      "name": "Untitled0.ipynb",
      "version": "0.3.2",
      "provenance": [],
      "include_colab_link": true
    },
    "kernelspec": {
      "name": "python3",
      "display_name": "Python 3"
    }
  },
  "cells": [
    {
      "cell_type": "markdown",
      "metadata": {
        "id": "view-in-github",
        "colab_type": "text"
      },
      "source": [
        "<a href=\"https://colab.research.google.com/github/shiv4ngi/Day1Task/blob/master/Untitled0.ipynb\" target=\"_parent\"><img src=\"https://colab.research.google.com/assets/colab-badge.svg\" alt=\"Open In Colab\"/></a>"
      ]
    },
    {
      "cell_type": "code",
      "metadata": {
        "id": "kkI5Da3pDcHd",
        "colab_type": "code",
        "colab": {}
      },
      "source": [
        "import numpy as np"
      ],
      "execution_count": 0,
      "outputs": []
    },
    {
      "cell_type": "markdown",
      "metadata": {
        "id": "Y6keyBNlUJgP",
        "colab_type": "text"
      },
      "source": [
        "**Creating ndarray**"
      ]
    },
    {
      "cell_type": "code",
      "metadata": {
        "id": "sKWerJdUPWGI",
        "colab_type": "code",
        "colab": {
          "base_uri": "https://localhost:8080/",
          "height": 52
        },
        "outputId": "4a65791a-2449-4a86-fcd2-c95e673ae9ed"
      },
      "source": [
        "a = np.array([[0,1,2,3],[4,5,6,7]])\n",
        "print(a)"
      ],
      "execution_count": 17,
      "outputs": [
        {
          "output_type": "stream",
          "text": [
            "[[0 1 2 3]\n",
            " [4 5 6 7]]\n"
          ],
          "name": "stdout"
        }
      ]
    },
    {
      "cell_type": "markdown",
      "metadata": {
        "id": "2HADQS8IUUa3",
        "colab_type": "text"
      },
      "source": [
        "**Finding datatype**"
      ]
    },
    {
      "cell_type": "code",
      "metadata": {
        "id": "tclD2bazQIPf",
        "colab_type": "code",
        "colab": {
          "base_uri": "https://localhost:8080/",
          "height": 34
        },
        "outputId": "c6529e4a-1ebc-43f0-cd33-c7bc3bf00db0"
      },
      "source": [
        "a.dtype"
      ],
      "execution_count": 16,
      "outputs": [
        {
          "output_type": "execute_result",
          "data": {
            "text/plain": [
              "dtype('int64')"
            ]
          },
          "metadata": {
            "tags": []
          },
          "execution_count": 16
        }
      ]
    },
    {
      "cell_type": "markdown",
      "metadata": {
        "id": "wDIJIIvoUcqr",
        "colab_type": "text"
      },
      "source": [
        "**Arithematic operations**"
      ]
    },
    {
      "cell_type": "code",
      "metadata": {
        "id": "zuxevGkkRDhe",
        "colab_type": "code",
        "colab": {
          "base_uri": "https://localhost:8080/",
          "height": 52
        },
        "outputId": "4b783fe7-d524-4455-a982-e30dcfaba134"
      },
      "source": [
        "b = np.ones((2,4))\n",
        "ab = a+b\n",
        "print(ab)"
      ],
      "execution_count": 21,
      "outputs": [
        {
          "output_type": "stream",
          "text": [
            "[[1. 2. 3. 4.]\n",
            " [5. 6. 7. 8.]]\n"
          ],
          "name": "stdout"
        }
      ]
    },
    {
      "cell_type": "code",
      "metadata": {
        "id": "VFZbxiAlTUnD",
        "colab_type": "code",
        "colab": {
          "base_uri": "https://localhost:8080/",
          "height": 52
        },
        "outputId": "67ec93ab-271e-46a9-e5f3-6821113dba68"
      },
      "source": [
        "c = a*2\n",
        "print(c)"
      ],
      "execution_count": 23,
      "outputs": [
        {
          "output_type": "stream",
          "text": [
            "[[ 0  2  4  6]\n",
            " [ 8 10 12 14]]\n"
          ],
          "name": "stdout"
        }
      ]
    },
    {
      "cell_type": "code",
      "metadata": {
        "id": "ICm_x-nHTtQ1",
        "colab_type": "code",
        "colab": {
          "base_uri": "https://localhost:8080/",
          "height": 52
        },
        "outputId": "97f6f91b-644b-43fb-ed74-7ddef9e151b7"
      },
      "source": [
        "d = np.power(a,3)\n",
        "print(d)"
      ],
      "execution_count": 24,
      "outputs": [
        {
          "output_type": "stream",
          "text": [
            "[[  0   1   8  27]\n",
            " [ 64 125 216 343]]\n"
          ],
          "name": "stdout"
        }
      ]
    },
    {
      "cell_type": "markdown",
      "metadata": {
        "id": "4vLu_KaBVdBI",
        "colab_type": "text"
      },
      "source": [
        "**Slicing and Indexing**"
      ]
    },
    {
      "cell_type": "code",
      "metadata": {
        "id": "AoZoTy-0VkPz",
        "colab_type": "code",
        "colab": {
          "base_uri": "https://localhost:8080/",
          "height": 34
        },
        "outputId": "08e9dc11-6445-43e5-ed6d-c16412c61937"
      },
      "source": [
        "print (a[1:3])"
      ],
      "execution_count": 28,
      "outputs": [
        {
          "output_type": "stream",
          "text": [
            "[[4 5 6 7]]\n"
          ],
          "name": "stdout"
        }
      ]
    },
    {
      "cell_type": "code",
      "metadata": {
        "id": "eNhc0RQdW2P9",
        "colab_type": "code",
        "colab": {
          "base_uri": "https://localhost:8080/",
          "height": 34
        },
        "outputId": "11f00021-98b8-432e-cddf-dc8989f8e7db"
      },
      "source": [
        "print (ab[:-1])"
      ],
      "execution_count": 31,
      "outputs": [
        {
          "output_type": "stream",
          "text": [
            "[[1. 2. 3. 4.]]\n"
          ],
          "name": "stdout"
        }
      ]
    },
    {
      "cell_type": "markdown",
      "metadata": {
        "id": "Asodiw5rXVdI",
        "colab_type": "text"
      },
      "source": [
        "**Some other functions**"
      ]
    },
    {
      "cell_type": "code",
      "metadata": {
        "id": "1Uie8NKGXbLM",
        "colab_type": "code",
        "colab": {
          "base_uri": "https://localhost:8080/",
          "height": 69
        },
        "outputId": "9e498977-a847-4210-e2e4-f9242410a78a"
      },
      "source": [
        "print (np.sum(a))   #adding all the values of an array\n",
        "print(np.sum(a,axis=0))   #adding up the columns\n",
        "print(np.sum(a,axis=1))   #adding up the rows"
      ],
      "execution_count": 34,
      "outputs": [
        {
          "output_type": "stream",
          "text": [
            "28\n",
            "[ 4  6  8 10]\n",
            "[ 6 22]\n"
          ],
          "name": "stdout"
        }
      ]
    },
    {
      "cell_type": "code",
      "metadata": {
        "id": "sQALr8JWYYnO",
        "colab_type": "code",
        "colab": {}
      },
      "source": [
        ""
      ],
      "execution_count": 0,
      "outputs": []
    }
  ]
}