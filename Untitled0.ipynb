{
  "nbformat": 4,
  "nbformat_minor": 0,
  "metadata": {
    "colab": {
      "name": "Untitled0.ipynb",
      "version": "0.3.2",
      "provenance": [],
      "include_colab_link": true
    },
    "kernelspec": {
      "name": "python3",
      "display_name": "Python 3"
    }
  },
  "cells": [
    {
      "cell_type": "markdown",
      "metadata": {
        "id": "view-in-github",
        "colab_type": "text"
      },
      "source": [
        "<a href=\"https://colab.research.google.com/github/shiv4ngi/Day1Task/blob/master/Untitled0.ipynb\" target=\"_parent\"><img src=\"https://colab.research.google.com/assets/colab-badge.svg\" alt=\"Open In Colab\"/></a>"
      ]
    },
    {
      "cell_type": "markdown",
      "metadata": {
        "id": "5UuSDksQEl_P",
        "colab_type": "text"
      },
      "source": [
        "# Numpy(Day1)"
      ]
    },
    {
      "cell_type": "code",
      "metadata": {
        "id": "kkI5Da3pDcHd",
        "colab_type": "code",
        "colab": {}
      },
      "source": [
        "import numpy as np"
      ],
      "execution_count": 0,
      "outputs": []
    },
    {
      "cell_type": "markdown",
      "metadata": {
        "id": "Y6keyBNlUJgP",
        "colab_type": "text"
      },
      "source": [
        "**Creating ndarray**"
      ]
    },
    {
      "cell_type": "code",
      "metadata": {
        "id": "sKWerJdUPWGI",
        "colab_type": "code",
        "colab": {}
      },
      "source": [
        "a = np.array([[0,1,2,3],[4,5,6,7]])\n",
        "print(a)"
      ],
      "execution_count": 0,
      "outputs": []
    },
    {
      "cell_type": "markdown",
      "metadata": {
        "id": "jrp9a4l0zjQk",
        "colab_type": "text"
      },
      "source": [
        "**Datatypes of ndarrays**"
      ]
    },
    {
      "cell_type": "markdown",
      "metadata": {
        "id": "_xQjri6c0C2s",
        "colab_type": "text"
      },
      "source": [
        "\n",
        "\n",
        "1.   float_ : float64\n",
        "2.   cfloat: complex\n",
        "3.   int_ : integer(either int64 or int32 normally)\n",
        "4.   bool_ : boolean(true or false)\n",
        "\n",
        "\n",
        "\n"
      ]
    },
    {
      "cell_type": "markdown",
      "metadata": {
        "id": "2HADQS8IUUa3",
        "colab_type": "text"
      },
      "source": [
        "**Finding datatype**"
      ]
    },
    {
      "cell_type": "code",
      "metadata": {
        "id": "tclD2bazQIPf",
        "colab_type": "code",
        "colab": {}
      },
      "source": [
        "a.dtype"
      ],
      "execution_count": 0,
      "outputs": []
    },
    {
      "cell_type": "markdown",
      "metadata": {
        "id": "wDIJIIvoUcqr",
        "colab_type": "text"
      },
      "source": [
        "**Arithematic operations**"
      ]
    },
    {
      "cell_type": "code",
      "metadata": {
        "id": "zuxevGkkRDhe",
        "colab_type": "code",
        "colab": {}
      },
      "source": [
        "b = np.ones((2,4))\n",
        "ab = a+b\n",
        "print(ab)"
      ],
      "execution_count": 0,
      "outputs": []
    },
    {
      "cell_type": "code",
      "metadata": {
        "id": "VFZbxiAlTUnD",
        "colab_type": "code",
        "colab": {}
      },
      "source": [
        "c = a*2\n",
        "print(c)"
      ],
      "execution_count": 0,
      "outputs": []
    },
    {
      "cell_type": "code",
      "metadata": {
        "id": "ICm_x-nHTtQ1",
        "colab_type": "code",
        "colab": {}
      },
      "source": [
        "d = np.power(a,3)\n",
        "print(d)"
      ],
      "execution_count": 0,
      "outputs": []
    },
    {
      "cell_type": "markdown",
      "metadata": {
        "id": "4vLu_KaBVdBI",
        "colab_type": "text"
      },
      "source": [
        "**Slicing and Indexing**"
      ]
    },
    {
      "cell_type": "code",
      "metadata": {
        "id": "AoZoTy-0VkPz",
        "colab_type": "code",
        "colab": {}
      },
      "source": [
        "print (a[1:3])"
      ],
      "execution_count": 0,
      "outputs": []
    },
    {
      "cell_type": "code",
      "metadata": {
        "id": "eNhc0RQdW2P9",
        "colab_type": "code",
        "colab": {}
      },
      "source": [
        "print (ab[:-1])"
      ],
      "execution_count": 0,
      "outputs": []
    },
    {
      "cell_type": "markdown",
      "metadata": {
        "id": "Asodiw5rXVdI",
        "colab_type": "text"
      },
      "source": [
        "**Some other functions**"
      ]
    },
    {
      "cell_type": "code",
      "metadata": {
        "id": "1Uie8NKGXbLM",
        "colab_type": "code",
        "colab": {}
      },
      "source": [
        "print (np.sum(a))   #adding all the values of an array\n",
        "print(np.sum(a,axis=0))   #adding up the columns\n",
        "print(np.sum(a,axis=1))   #adding up the rows"
      ],
      "execution_count": 0,
      "outputs": []
    },
    {
      "cell_type": "code",
      "metadata": {
        "id": "sQALr8JWYYnO",
        "colab_type": "code",
        "colab": {}
      },
      "source": [
        "Random = np.random.rand(5)   #creating an array with random no.\n",
        "print (Random)"
      ],
      "execution_count": 0,
      "outputs": []
    },
    {
      "cell_type": "code",
      "metadata": {
        "id": "g97xiYsuyR8K",
        "colab_type": "code",
        "colab": {}
      },
      "source": [
        "zero_mat = np.zeros((5,5))    #creating a matrix with zeros\n",
        "print (zero_mat)"
      ],
      "execution_count": 0,
      "outputs": []
    },
    {
      "cell_type": "code",
      "metadata": {
        "id": "cvJmHClhybJs",
        "colab_type": "code",
        "colab": {}
      },
      "source": [
        "dimension = a.ndim   #printing dimensions\n",
        "print (dimension)"
      ],
      "execution_count": 0,
      "outputs": []
    },
    {
      "cell_type": "markdown",
      "metadata": {
        "id": "VyTtLLrQEyZY",
        "colab_type": "text"
      },
      "source": [
        "# Data structures(Day2)"
      ]
    },
    {
      "cell_type": "markdown",
      "metadata": {
        "id": "qjrF_HGb3lPu",
        "colab_type": "text"
      },
      "source": [
        "**Data Structures and Sequence**"
      ]
    },
    {
      "cell_type": "markdown",
      "metadata": {
        "id": "BSjJpOcl_j4q",
        "colab_type": "text"
      },
      "source": [
        "Different kind of built-in data structures are - List, Dictionary, Tuples, Strings,Sets and Frozensets.\n",
        "\n",
        "\n",
        "\n",
        "\n"
      ]
    },
    {
      "cell_type": "markdown",
      "metadata": {
        "id": "gEOpbVguC3FA",
        "colab_type": "text"
      },
      "source": [
        "**Tuples Vs List**\n",
        "\n",
        "1.   Tuples are non changable while List can be modified.\n",
        "2.    In tuples () are used while in List [] are used.\n",
        "\n"
      ]
    },
    {
      "cell_type": "markdown",
      "metadata": {
        "id": "skV-eOTuIM4y",
        "colab_type": "text"
      },
      "source": [
        "**List**"
      ]
    },
    {
      "cell_type": "code",
      "metadata": {
        "id": "xJ8JCvAgAW3M",
        "colab_type": "code",
        "colab": {}
      },
      "source": [
        "lst = [23,\"string\",34]   #creating a list\n",
        "lst.append(\"five\")   #adding \"five\" at the end of the list\n",
        "lst.insert(2,\"three\")  #inserting \"three\" at location 2\n",
        "print(lst)"
      ],
      "execution_count": 0,
      "outputs": []
    },
    {
      "cell_type": "code",
      "metadata": {
        "id": "tUvurn__CZkZ",
        "colab_type": "code",
        "colab": {}
      },
      "source": [
        "lst.reverse()  #reverse the list\n",
        "print(lst)"
      ],
      "execution_count": 0,
      "outputs": []
    },
    {
      "cell_type": "code",
      "metadata": {
        "id": "HwWtadkXHZSJ",
        "colab_type": "code",
        "colab": {}
      },
      "source": [
        "a = [26,38,49,93,72]\n",
        "print(a[0:4])   #slicing of list"
      ],
      "execution_count": 0,
      "outputs": []
    },
    {
      "cell_type": "code",
      "metadata": {
        "id": "hschgl3JH-_r",
        "colab_type": "code",
        "colab": {}
      },
      "source": [
        "a.sort()\n",
        "print(a)"
      ],
      "execution_count": 0,
      "outputs": []
    },
    {
      "cell_type": "markdown",
      "metadata": {
        "id": "U00Qci90IQqv",
        "colab_type": "text"
      },
      "source": [
        "**Tuples**"
      ]
    },
    {
      "cell_type": "code",
      "metadata": {
        "id": "nLuuMuE4B-9p",
        "colab_type": "code",
        "colab": {}
      },
      "source": [
        "t = (23,\"string\",34,23,6)  #creating a tuple\n",
        "print(t)"
      ],
      "execution_count": 0,
      "outputs": []
    },
    {
      "cell_type": "code",
      "metadata": {
        "id": "8VisjVjZCVyu",
        "colab_type": "code",
        "colab": {}
      },
      "source": [
        "t.count(23)   #counting elements\n"
      ],
      "execution_count": 0,
      "outputs": []
    },
    {
      "cell_type": "code",
      "metadata": {
        "id": "9NP2xXleJGNG",
        "colab_type": "code",
        "colab": {}
      },
      "source": [
        "t.index(6)   #finding at which index element is present"
      ],
      "execution_count": 0,
      "outputs": []
    },
    {
      "cell_type": "code",
      "metadata": {
        "id": "aueWN8lgJafl",
        "colab_type": "code",
        "colab": {}
      },
      "source": [
        "len(t)      #tuple length"
      ],
      "execution_count": 0,
      "outputs": []
    },
    {
      "cell_type": "code",
      "metadata": {
        "id": "Hl6L07DTJmx5",
        "colab_type": "code",
        "colab": {}
      },
      "source": [
        "tup= (26,37,73,64,25,48,83)  #tuple sort\n",
        "newtup= sorted(tup)\n",
        "print(newtup)"
      ],
      "execution_count": 0,
      "outputs": []
    },
    {
      "cell_type": "markdown",
      "metadata": {
        "id": "hLyUnOcvNKXm",
        "colab_type": "text"
      },
      "source": [
        "**Sets**"
      ]
    },
    {
      "cell_type": "markdown",
      "metadata": {
        "id": "93amYBcFJ7Nv",
        "colab_type": "text"
      },
      "source": [
        " It is an unordered collection that can't be indexed. It is mutable.It contains unique values. In sets {} are used."
      ]
    },
    {
      "cell_type": "code",
      "metadata": {
        "id": "0f976tbqJ-Hg",
        "colab_type": "code",
        "colab": {}
      },
      "source": [
        "s = {1,2,3,4,5,6}   #creating a set\n",
        "s.add(7)   #adding an element\n",
        "s.remove(6)  #removing n element\n",
        "print(s)"
      ],
      "execution_count": 0,
      "outputs": []
    },
    {
      "cell_type": "code",
      "metadata": {
        "id": "YDh0kAPdLgkX",
        "colab_type": "code",
        "colab": {}
      },
      "source": [
        "s1 = {1,2,3}\n",
        "s2 = {4,5,6}\n",
        "s1.union(s2)    #Set operations\n",
        "s1.intersection(s2)"
      ],
      "execution_count": 0,
      "outputs": []
    },
    {
      "cell_type": "code",
      "metadata": {
        "id": "FUFvwc6nMSF7",
        "colab_type": "code",
        "colab": {}
      },
      "source": [
        "s1-s2   #difference"
      ],
      "execution_count": 0,
      "outputs": []
    },
    {
      "cell_type": "markdown",
      "metadata": {
        "id": "ozeIQ3mNMeMz",
        "colab_type": "text"
      },
      "source": [
        "**Dictionary**"
      ]
    },
    {
      "cell_type": "markdown",
      "metadata": {
        "id": "1Cu9YLkBMrZE",
        "colab_type": "text"
      },
      "source": [
        "It is an unordered collection of items. It contains key and values."
      ]
    },
    {
      "cell_type": "code",
      "metadata": {
        "id": "MetljnzrMqLQ",
        "colab_type": "code",
        "colab": {
          "base_uri": "https://localhost:8080/",
          "height": 34
        },
        "outputId": "d3d35590-b553-4ed6-cafb-d2f2ade31e54"
      },
      "source": [
        "d={'k1':'v1', 'k2':'v2', 'k3':[1,2]}   #creating dictionary\n",
        "d.keys()    #returns keys"
      ],
      "execution_count": 56,
      "outputs": [
        {
          "output_type": "execute_result",
          "data": {
            "text/plain": [
              "dict_keys(['k1', 'k2', 'k3'])"
            ]
          },
          "metadata": {
            "tags": []
          },
          "execution_count": 56
        }
      ]
    },
    {
      "cell_type": "code",
      "metadata": {
        "id": "9Rf8i0aRORGI",
        "colab_type": "code",
        "colab": {
          "base_uri": "https://localhost:8080/",
          "height": 34
        },
        "outputId": "1591030a-e266-4682-a6e3-6f76c0f1e9cd"
      },
      "source": [
        "d.values()      #returns values"
      ],
      "execution_count": 45,
      "outputs": [
        {
          "output_type": "execute_result",
          "data": {
            "text/plain": [
              "dict_values(['v1', 'v2', [1, 2]])"
            ]
          },
          "metadata": {
            "tags": []
          },
          "execution_count": 45
        }
      ]
    },
    {
      "cell_type": "code",
      "metadata": {
        "id": "o2mpPOxqObZP",
        "colab_type": "code",
        "colab": {
          "base_uri": "https://localhost:8080/",
          "height": 34
        },
        "outputId": "0d567503-b009-4024-806d-611d4a5d07ce"
      },
      "source": [
        "d.pop('k1')   #removes the key and returns its value"
      ],
      "execution_count": 57,
      "outputs": [
        {
          "output_type": "execute_result",
          "data": {
            "text/plain": [
              "'v1'"
            ]
          },
          "metadata": {
            "tags": []
          },
          "execution_count": 57
        }
      ]
    },
    {
      "cell_type": "markdown",
      "metadata": {
        "id": "VSQjgCTmQgyt",
        "colab_type": "text"
      },
      "source": [
        "**Strings**"
      ]
    },
    {
      "cell_type": "code",
      "metadata": {
        "id": "PAmv9Lg3QkqI",
        "colab_type": "code",
        "colab": {}
      },
      "source": [
        "s1 = \"Internity\"\n",
        "s2 = \"foundation\"\n",
        "s1+s2    #concatination"
      ],
      "execution_count": 0,
      "outputs": []
    },
    {
      "cell_type": "code",
      "metadata": {
        "id": "BYVU9D5xQ_Jr",
        "colab_type": "code",
        "colab": {}
      },
      "source": [
        "s1*3   #repeats s1 three times"
      ],
      "execution_count": 0,
      "outputs": []
    },
    {
      "cell_type": "markdown",
      "metadata": {
        "id": "fg9yV2orRMJ0",
        "colab_type": "text"
      },
      "source": [
        "**FUNCTIONS and LAMBDA FUNCTIONS**                                                                                                       \n",
        "\n",
        "\n",
        "\n",
        "**Built-in function**"
      ]
    },
    {
      "cell_type": "markdown",
      "metadata": {
        "id": "yq27k9KoRYZf",
        "colab_type": "text"
      },
      "source": [
        "1.   abs(): used to convert a no. into absolut no.\n",
        "2.   reduce()\n",
        "3.   map()\n",
        "4.   filter()\n",
        "5.   enumerate()\n",
        "6.   divmod()\n",
        "7.   dir()"
      ]
    },
    {
      "cell_type": "markdown",
      "metadata": {
        "id": "fpdLY5vFTJq9",
        "colab_type": "text"
      },
      "source": [
        "**Lambda functions**"
      ]
    }
  ]
}